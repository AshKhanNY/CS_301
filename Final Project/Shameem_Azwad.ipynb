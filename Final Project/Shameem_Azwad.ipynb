{
 "cells": [
  {
   "cell_type": "code",
   "execution_count": 1,
   "metadata": {
    "pycharm": {
     "name": "#%%\n"
    }
   },
   "outputs": [],
   "source": [
    "# Imports & Constant Variables\n",
    "import time\n",
    "import pandas as pd\n",
    "from scipy import misc\n",
    "import matplotlib.pyplot as plt"
   ]
  },
  {
   "cell_type": "code",
   "execution_count": 2,
   "outputs": [],
   "source": [
    "max_iterations = 1000\n",
    "tol = 1e-15\n",
    "equations = [\"x^2 - x - 1\", \"3x^2 - 3x - 1\", \"8x^2 - 8x - 1\", \"x^3 - x^2 - x - 1\", \"2x^3 - 2x^2 - 2x - 1\", \"7x^3 - 7x^2 - 7x - 1\"]\n",
    "solutions = [-0.618033988749894, 1.618033988749894,\n",
    "             -0.263762615825973, 1.263762615825973,\n",
    "             -0.112372435695794, 1.112372435695794,\n",
    "             1.839286755214161, None, None,\n",
    "             1.739907874377572, None, None,\n",
    "             -0.473952458199156, -0.182018097012207, 1.655970555211363]"
   ],
   "metadata": {
    "collapsed": false,
    "pycharm": {
     "name": "#%%\n"
    }
   }
  },
  {
   "cell_type": "code",
   "source": [
    "# Creating A Graph Function To Easily Graph Results\n",
    "def graph(plot, equation, y, answer):\n",
    "    plot.title.set_text(equation)\n",
    "    plot.set_xlabel(\"Iterations\")\n",
    "    plot.set_ylabel(\"Root Predicted\")\n",
    "    plot.plot([i for i in range(len(y))], y)\n",
    "    plot.plot(len(y)-1, answer, marker=\"x\", markersize=20, markeredgecolor=\"red\")\n",
    "\n",
    "def record_results(method, f, p0, p1, p2, tolerance, max_iter, table, graph, equation, solution):\n",
    "    # Calculate Results\n",
    "    if p2:\n",
    "        outcome, output, iterations, path, t = method(f, p0, p1, p2, tolerance, max_iter)\n",
    "    elif p1:\n",
    "        outcome, output, iterations, path, t = method(f, p0, p1, tolerance, max_iter)\n",
    "    else:\n",
    "        outcome, output, iterations, path, t = method(f, p0, tolerance, max_iter)\n",
    "\n",
    "    if method == fixed_point_iteration:\n",
    "        graph.scatter([i for i in range(len(path))], path, s=10)\n",
    "        graph.plot(len(path) - 1, solution, marker=\"x\", markersize=20, markeredgecolor=\"red\")\n",
    "        return\n",
    "\n",
    "    # Store Results In Table\n",
    "    table.append(outcome)\n",
    "    table.append(output)\n",
    "    table.append(abs(output-solutions[0]))\n",
    "    table.append(iterations)\n",
    "    table.append(t)\n",
    "\n",
    "    # Graph Results\n",
    "    graph(graph, equation, path, solution)"
   ],
   "metadata": {
    "collapsed": false,
    "pycharm": {
     "name": "#%%\n"
    }
   },
   "execution_count": 3,
   "outputs": []
  },
  {
   "cell_type": "code",
   "execution_count": 4,
   "outputs": [
    {
     "ename": "OverflowError",
     "evalue": "(34, 'Result too large')",
     "output_type": "error",
     "traceback": [
      "\u001B[0;31m---------------------------------------------------------------------------\u001B[0m",
      "\u001B[0;31mOverflowError\u001B[0m                             Traceback (most recent call last)",
      "\u001B[0;32m/var/folders/bz/rjf6gxkx5sb60fqs7_31vy6r0000gn/T/ipykernel_2745/1959076888.py\u001B[0m in \u001B[0;36m<module>\u001B[0;34m\u001B[0m\n\u001B[1;32m     17\u001B[0m \u001B[0mfig\u001B[0m\u001B[0;34m,\u001B[0m \u001B[0max\u001B[0m \u001B[0;34m=\u001B[0m \u001B[0mplt\u001B[0m\u001B[0;34m.\u001B[0m\u001B[0msubplots\u001B[0m\u001B[0;34m(\u001B[0m\u001B[0;36m1\u001B[0m\u001B[0;34m,\u001B[0m \u001B[0;36m3\u001B[0m\u001B[0;34m,\u001B[0m \u001B[0mfigsize\u001B[0m\u001B[0;34m=\u001B[0m\u001B[0;34m(\u001B[0m\u001B[0;36m15\u001B[0m\u001B[0;34m,\u001B[0m\u001B[0;36m4\u001B[0m\u001B[0;34m)\u001B[0m\u001B[0;34m)\u001B[0m\u001B[0;34m\u001B[0m\u001B[0;34m\u001B[0m\u001B[0m\n\u001B[1;32m     18\u001B[0m \u001B[0mfig\u001B[0m\u001B[0;34m.\u001B[0m\u001B[0msuptitle\u001B[0m\u001B[0;34m(\u001B[0m\u001B[0;34m\"Fixed Point Iteration\"\u001B[0m\u001B[0;34m)\u001B[0m\u001B[0;34m\u001B[0m\u001B[0;34m\u001B[0m\u001B[0m\n\u001B[0;32m---> 19\u001B[0;31m \u001B[0mrecord_results\u001B[0m\u001B[0;34m(\u001B[0m\u001B[0mfixed_point_iteration\u001B[0m\u001B[0;34m,\u001B[0m \u001B[0;32mlambda\u001B[0m \u001B[0mx\u001B[0m\u001B[0;34m:\u001B[0m\u001B[0mx\u001B[0m\u001B[0;34m**\u001B[0m\u001B[0;36m2\u001B[0m\u001B[0;34m-\u001B[0m\u001B[0mx\u001B[0m\u001B[0;34m-\u001B[0m\u001B[0;36m1\u001B[0m\u001B[0;34m,\u001B[0m \u001B[0;36m6.61\u001B[0m\u001B[0;34m,\u001B[0m \u001B[0;32mNone\u001B[0m\u001B[0;34m,\u001B[0m \u001B[0;32mNone\u001B[0m\u001B[0;34m,\u001B[0m \u001B[0;36m1e-5\u001B[0m\u001B[0;34m,\u001B[0m \u001B[0mmax_iterations\u001B[0m\u001B[0;34m,\u001B[0m \u001B[0mresults\u001B[0m\u001B[0;34m,\u001B[0m \u001B[0max\u001B[0m\u001B[0;34m[\u001B[0m\u001B[0;36m0\u001B[0m\u001B[0;34m]\u001B[0m\u001B[0;34m,\u001B[0m \u001B[0mequations\u001B[0m\u001B[0;34m[\u001B[0m\u001B[0;36m0\u001B[0m\u001B[0;34m]\u001B[0m\u001B[0;34m,\u001B[0m \u001B[0msolutions\u001B[0m\u001B[0;34m[\u001B[0m\u001B[0;36m1\u001B[0m\u001B[0;34m]\u001B[0m\u001B[0;34m)\u001B[0m\u001B[0;34m\u001B[0m\u001B[0;34m\u001B[0m\u001B[0m\n\u001B[0m\u001B[1;32m     20\u001B[0m \u001B[0mprint\u001B[0m\u001B[0;34m(\u001B[0m\u001B[0;34m\"Actual Roots: x≈-0.61803 OR x≈1.6180\"\u001B[0m\u001B[0;34m)\u001B[0m\u001B[0;34m\u001B[0m\u001B[0;34m\u001B[0m\u001B[0m\n\u001B[1;32m     21\u001B[0m \u001B[0mrecord_results\u001B[0m\u001B[0;34m(\u001B[0m\u001B[0mfixed_point_iteration\u001B[0m\u001B[0;34m,\u001B[0m \u001B[0;32mlambda\u001B[0m \u001B[0mx\u001B[0m\u001B[0;34m:\u001B[0m\u001B[0;36m3\u001B[0m\u001B[0;34m*\u001B[0m\u001B[0mx\u001B[0m\u001B[0;34m**\u001B[0m\u001B[0;36m2\u001B[0m\u001B[0;34m-\u001B[0m\u001B[0;36m3\u001B[0m\u001B[0;34m*\u001B[0m\u001B[0mx\u001B[0m\u001B[0;34m-\u001B[0m\u001B[0;36m1\u001B[0m\u001B[0;34m,\u001B[0m \u001B[0;36m6.31\u001B[0m\u001B[0;34m,\u001B[0m \u001B[0;32mNone\u001B[0m\u001B[0;34m,\u001B[0m \u001B[0;32mNone\u001B[0m\u001B[0;34m,\u001B[0m \u001B[0;36m1e-5\u001B[0m\u001B[0;34m,\u001B[0m \u001B[0;36m5\u001B[0m\u001B[0;34m,\u001B[0m \u001B[0mresults\u001B[0m\u001B[0;34m,\u001B[0m \u001B[0max\u001B[0m\u001B[0;34m[\u001B[0m\u001B[0;36m1\u001B[0m\u001B[0;34m]\u001B[0m\u001B[0;34m,\u001B[0m \u001B[0mequations\u001B[0m\u001B[0;34m[\u001B[0m\u001B[0;36m1\u001B[0m\u001B[0;34m]\u001B[0m\u001B[0;34m,\u001B[0m \u001B[0msolutions\u001B[0m\u001B[0;34m[\u001B[0m\u001B[0;36m1\u001B[0m\u001B[0;34m]\u001B[0m\u001B[0;34m)\u001B[0m\u001B[0;34m\u001B[0m\u001B[0;34m\u001B[0m\u001B[0m\n",
      "\u001B[0;32m/var/folders/bz/rjf6gxkx5sb60fqs7_31vy6r0000gn/T/ipykernel_2745/3142298621.py\u001B[0m in \u001B[0;36mrecord_results\u001B[0;34m(method, f, p0, p1, p2, tolerance, max_iter, table, graph, equation, solution)\u001B[0m\n\u001B[1;32m     14\u001B[0m         \u001B[0moutcome\u001B[0m\u001B[0;34m,\u001B[0m \u001B[0moutput\u001B[0m\u001B[0;34m,\u001B[0m \u001B[0miterations\u001B[0m\u001B[0;34m,\u001B[0m \u001B[0mpath\u001B[0m\u001B[0;34m,\u001B[0m \u001B[0mt\u001B[0m \u001B[0;34m=\u001B[0m \u001B[0mmethod\u001B[0m\u001B[0;34m(\u001B[0m\u001B[0mf\u001B[0m\u001B[0;34m,\u001B[0m \u001B[0mp0\u001B[0m\u001B[0;34m,\u001B[0m \u001B[0mp1\u001B[0m\u001B[0;34m,\u001B[0m \u001B[0mtolerance\u001B[0m\u001B[0;34m,\u001B[0m \u001B[0mmax_iter\u001B[0m\u001B[0;34m)\u001B[0m\u001B[0;34m\u001B[0m\u001B[0;34m\u001B[0m\u001B[0m\n\u001B[1;32m     15\u001B[0m     \u001B[0;32melse\u001B[0m\u001B[0;34m:\u001B[0m\u001B[0;34m\u001B[0m\u001B[0;34m\u001B[0m\u001B[0m\n\u001B[0;32m---> 16\u001B[0;31m         \u001B[0moutcome\u001B[0m\u001B[0;34m,\u001B[0m \u001B[0moutput\u001B[0m\u001B[0;34m,\u001B[0m \u001B[0miterations\u001B[0m\u001B[0;34m,\u001B[0m \u001B[0mpath\u001B[0m\u001B[0;34m,\u001B[0m \u001B[0mt\u001B[0m \u001B[0;34m=\u001B[0m \u001B[0mmethod\u001B[0m\u001B[0;34m(\u001B[0m\u001B[0mf\u001B[0m\u001B[0;34m,\u001B[0m \u001B[0mp0\u001B[0m\u001B[0;34m,\u001B[0m \u001B[0mtolerance\u001B[0m\u001B[0;34m,\u001B[0m \u001B[0mmax_iter\u001B[0m\u001B[0;34m)\u001B[0m\u001B[0;34m\u001B[0m\u001B[0;34m\u001B[0m\u001B[0m\n\u001B[0m\u001B[1;32m     17\u001B[0m \u001B[0;34m\u001B[0m\u001B[0m\n\u001B[1;32m     18\u001B[0m     \u001B[0;32mif\u001B[0m \u001B[0mmethod\u001B[0m \u001B[0;34m==\u001B[0m \u001B[0mfixed_point_iteration\u001B[0m\u001B[0;34m:\u001B[0m\u001B[0;34m\u001B[0m\u001B[0;34m\u001B[0m\u001B[0m\n",
      "\u001B[0;32m/var/folders/bz/rjf6gxkx5sb60fqs7_31vy6r0000gn/T/ipykernel_2745/1959076888.py\u001B[0m in \u001B[0;36mfixed_point_iteration\u001B[0;34m(f, p0, tolerance, max_iter)\u001B[0m\n\u001B[1;32m      4\u001B[0m     \u001B[0mprogress\u001B[0m \u001B[0;34m=\u001B[0m \u001B[0;34m[\u001B[0m\u001B[0;34m]\u001B[0m\u001B[0;34m\u001B[0m\u001B[0;34m\u001B[0m\u001B[0m\n\u001B[1;32m      5\u001B[0m     \u001B[0;32mfor\u001B[0m \u001B[0mi\u001B[0m \u001B[0;32min\u001B[0m \u001B[0mrange\u001B[0m\u001B[0;34m(\u001B[0m\u001B[0;36m1\u001B[0m\u001B[0;34m,\u001B[0m \u001B[0mmax_iter\u001B[0m\u001B[0;34m)\u001B[0m\u001B[0;34m:\u001B[0m\u001B[0;34m\u001B[0m\u001B[0;34m\u001B[0m\u001B[0m\n\u001B[0;32m----> 6\u001B[0;31m         \u001B[0mp\u001B[0m \u001B[0;34m=\u001B[0m \u001B[0mf\u001B[0m\u001B[0;34m(\u001B[0m\u001B[0mp0\u001B[0m\u001B[0;34m)\u001B[0m\u001B[0;34m\u001B[0m\u001B[0;34m\u001B[0m\u001B[0m\n\u001B[0m\u001B[1;32m      7\u001B[0m         \u001B[0mprogress\u001B[0m\u001B[0;34m.\u001B[0m\u001B[0mappend\u001B[0m\u001B[0;34m(\u001B[0m\u001B[0mp\u001B[0m\u001B[0;34m)\u001B[0m\u001B[0;34m\u001B[0m\u001B[0;34m\u001B[0m\u001B[0m\n\u001B[1;32m      8\u001B[0m         \u001B[0;32mif\u001B[0m \u001B[0mabs\u001B[0m\u001B[0;34m(\u001B[0m\u001B[0mp\u001B[0m\u001B[0;34m-\u001B[0m\u001B[0mp0\u001B[0m\u001B[0;34m)\u001B[0m \u001B[0;34m<\u001B[0m \u001B[0mtolerance\u001B[0m\u001B[0;34m:\u001B[0m\u001B[0;34m\u001B[0m\u001B[0;34m\u001B[0m\u001B[0m\n",
      "\u001B[0;32m/var/folders/bz/rjf6gxkx5sb60fqs7_31vy6r0000gn/T/ipykernel_2745/1959076888.py\u001B[0m in \u001B[0;36m<lambda>\u001B[0;34m(x)\u001B[0m\n\u001B[1;32m     17\u001B[0m \u001B[0mfig\u001B[0m\u001B[0;34m,\u001B[0m \u001B[0max\u001B[0m \u001B[0;34m=\u001B[0m \u001B[0mplt\u001B[0m\u001B[0;34m.\u001B[0m\u001B[0msubplots\u001B[0m\u001B[0;34m(\u001B[0m\u001B[0;36m1\u001B[0m\u001B[0;34m,\u001B[0m \u001B[0;36m3\u001B[0m\u001B[0;34m,\u001B[0m \u001B[0mfigsize\u001B[0m\u001B[0;34m=\u001B[0m\u001B[0;34m(\u001B[0m\u001B[0;36m15\u001B[0m\u001B[0;34m,\u001B[0m\u001B[0;36m4\u001B[0m\u001B[0;34m)\u001B[0m\u001B[0;34m)\u001B[0m\u001B[0;34m\u001B[0m\u001B[0;34m\u001B[0m\u001B[0m\n\u001B[1;32m     18\u001B[0m \u001B[0mfig\u001B[0m\u001B[0;34m.\u001B[0m\u001B[0msuptitle\u001B[0m\u001B[0;34m(\u001B[0m\u001B[0;34m\"Fixed Point Iteration\"\u001B[0m\u001B[0;34m)\u001B[0m\u001B[0;34m\u001B[0m\u001B[0;34m\u001B[0m\u001B[0m\n\u001B[0;32m---> 19\u001B[0;31m \u001B[0mrecord_results\u001B[0m\u001B[0;34m(\u001B[0m\u001B[0mfixed_point_iteration\u001B[0m\u001B[0;34m,\u001B[0m \u001B[0;32mlambda\u001B[0m \u001B[0mx\u001B[0m\u001B[0;34m:\u001B[0m\u001B[0mx\u001B[0m\u001B[0;34m**\u001B[0m\u001B[0;36m2\u001B[0m\u001B[0;34m-\u001B[0m\u001B[0mx\u001B[0m\u001B[0;34m-\u001B[0m\u001B[0;36m1\u001B[0m\u001B[0;34m,\u001B[0m \u001B[0;36m6.61\u001B[0m\u001B[0;34m,\u001B[0m \u001B[0;32mNone\u001B[0m\u001B[0;34m,\u001B[0m \u001B[0;32mNone\u001B[0m\u001B[0;34m,\u001B[0m \u001B[0;36m1e-5\u001B[0m\u001B[0;34m,\u001B[0m \u001B[0mmax_iterations\u001B[0m\u001B[0;34m,\u001B[0m \u001B[0mresults\u001B[0m\u001B[0;34m,\u001B[0m \u001B[0max\u001B[0m\u001B[0;34m[\u001B[0m\u001B[0;36m0\u001B[0m\u001B[0;34m]\u001B[0m\u001B[0;34m,\u001B[0m \u001B[0mequations\u001B[0m\u001B[0;34m[\u001B[0m\u001B[0;36m0\u001B[0m\u001B[0;34m]\u001B[0m\u001B[0;34m,\u001B[0m \u001B[0msolutions\u001B[0m\u001B[0;34m[\u001B[0m\u001B[0;36m1\u001B[0m\u001B[0;34m]\u001B[0m\u001B[0;34m)\u001B[0m\u001B[0;34m\u001B[0m\u001B[0;34m\u001B[0m\u001B[0m\n\u001B[0m\u001B[1;32m     20\u001B[0m \u001B[0mprint\u001B[0m\u001B[0;34m(\u001B[0m\u001B[0;34m\"Actual Roots: x≈-0.61803 OR x≈1.6180\"\u001B[0m\u001B[0;34m)\u001B[0m\u001B[0;34m\u001B[0m\u001B[0;34m\u001B[0m\u001B[0m\n\u001B[1;32m     21\u001B[0m \u001B[0mrecord_results\u001B[0m\u001B[0;34m(\u001B[0m\u001B[0mfixed_point_iteration\u001B[0m\u001B[0;34m,\u001B[0m \u001B[0;32mlambda\u001B[0m \u001B[0mx\u001B[0m\u001B[0;34m:\u001B[0m\u001B[0;36m3\u001B[0m\u001B[0;34m*\u001B[0m\u001B[0mx\u001B[0m\u001B[0;34m**\u001B[0m\u001B[0;36m2\u001B[0m\u001B[0;34m-\u001B[0m\u001B[0;36m3\u001B[0m\u001B[0;34m*\u001B[0m\u001B[0mx\u001B[0m\u001B[0;34m-\u001B[0m\u001B[0;36m1\u001B[0m\u001B[0;34m,\u001B[0m \u001B[0;36m6.31\u001B[0m\u001B[0;34m,\u001B[0m \u001B[0;32mNone\u001B[0m\u001B[0;34m,\u001B[0m \u001B[0;32mNone\u001B[0m\u001B[0;34m,\u001B[0m \u001B[0;36m1e-5\u001B[0m\u001B[0;34m,\u001B[0m \u001B[0;36m5\u001B[0m\u001B[0;34m,\u001B[0m \u001B[0mresults\u001B[0m\u001B[0;34m,\u001B[0m \u001B[0max\u001B[0m\u001B[0;34m[\u001B[0m\u001B[0;36m1\u001B[0m\u001B[0;34m]\u001B[0m\u001B[0;34m,\u001B[0m \u001B[0mequations\u001B[0m\u001B[0;34m[\u001B[0m\u001B[0;36m1\u001B[0m\u001B[0;34m]\u001B[0m\u001B[0;34m,\u001B[0m \u001B[0msolutions\u001B[0m\u001B[0;34m[\u001B[0m\u001B[0;36m1\u001B[0m\u001B[0;34m]\u001B[0m\u001B[0;34m)\u001B[0m\u001B[0;34m\u001B[0m\u001B[0;34m\u001B[0m\u001B[0m\n",
      "\u001B[0;31mOverflowError\u001B[0m: (34, 'Result too large')"
     ]
    },
    {
     "data": {
      "text/plain": "<Figure size 1080x288 with 3 Axes>",
      "image/png": "[encoded data removed]"
     },
     "metadata": {
      "needs_background": "light"
     },
     "output_type": "display_data"
    }
   ],
   "source": [
    "# Fixed Point Iteration Method\n",
    "def fixed_point_iteration(f, p0, tolerance, max_iter):\n",
    "    start = time.time()\n",
    "    progress = []\n",
    "    for i in range(1, max_iter):\n",
    "        p = f(p0)\n",
    "        progress.append(p)\n",
    "        if abs(p-p0) < tolerance:\n",
    "            end = time.time()\n",
    "            return \"Success\", p, i, progress, end-start\n",
    "        p0 = p\n",
    "    end = time.time()\n",
    "    return \"Failure\", p, max_iter, progress, end-start\n",
    "\n",
    "# Testing Fixed Point Iteration With 2nd Degree Polynomials\n",
    "results = []\n",
    "fig, ax = plt.subplots(1, 3, figsize=(15,4))\n",
    "fig.suptitle(\"Fixed Point Iteration\")\n",
    "record_results(fixed_point_iteration, lambda x:x**2-x-1, 6.61, None, None, 1e-5, max_iterations, results, ax[0], equations[0], solutions[1])\n",
    "print(\"Actual Roots: x≈-0.61803 OR x≈1.6180\")\n",
    "record_results(fixed_point_iteration, lambda x:3*x**2-3*x-1, 6.31, None, None, 1e-5, 5, results, ax[1], equations[1], solutions[1])\n",
    "print(\"Actual Roots: x≈-0.26376 OR x≈1.2638\")\n",
    "record_results(fixed_point_iteration, lambda x:8*x**2-8*x-1, 5.69, None, None, 1e-5, 5, results, ax[2], equations[2], solutions[2])\n",
    "print(\"Actual Roots: x≈-0.11237 OR x≈1.1124\")\n",
    "# Forced to use constant iterations otherwise the number would get too big and give an overflow error - clearly this method is not up to par"
   ],
   "metadata": {
    "collapsed": false,
    "pycharm": {
     "name": "#%%\n"
    }
   }
  },
  {
   "cell_type": "markdown",
   "source": [
    "The Fixed Point iteration may be easier to understand but not really reliable. This method is very hit or miss. The scatter plot above shows that the fixed iteration point can get close\n",
    "sometimes but most times it is very different from the actual root."
   ],
   "metadata": {
    "collapsed": false,
    "pycharm": {
     "name": "#%% md\n"
    }
   }
  },
  {
   "cell_type": "code",
   "execution_count": null,
   "outputs": [],
   "source": [
    "def newton(f, p0, tolerance, max_iter):\n",
    "    start = time.time()\n",
    "    progress = []\n",
    "    for i in range(1, max_iter):\n",
    "        progress.append(p0)\n",
    "        p1 = p0 - f(p0) / misc.derivative(f, p0)\n",
    "        if abs(p1 - p0) < tolerance:\n",
    "            end = time.time()\n",
    "            return \"Success\", p0, i, progress, end-start\n",
    "        p0 = p1\n",
    "    end = time.time()\n",
    "    return p0, max_iter, progress, end-start\n",
    "\n",
    "# Testing Newton's Method With 2nd Degree Polynomials\n",
    "results = []\n",
    "fig, ax = plt.subplots(1, 3, figsize=(15, 4))\n",
    "record_results(newton, lambda x: x ** 2 - x - 1, -5.6, None, None, tol, max_iterations, results, ax[0], equations[0], solutions[0])\n",
    "record_results(newton, lambda x: 3 * x ** 2 - 3 * x - 1, -5.26, None, None, tol, max_iterations, results, ax[1], equations[1], solutions[2])\n",
    "record_results(newton, lambda x: 8 * x ** 2 - 8 * x - 1, -5.11, None, None, tol, max_iterations, results, ax[2], equations[2], solutions[4])\n",
    "plt.show()\n",
    "\n",
    "# Testing Newton's Method With 3nd Degree Polynomials\n",
    "fig, ax = plt.subplots(1, 3, figsize=(15, 4))  # my screen may be too big\n",
    "record_results(newton, lambda x: x ** 3 - x ** 2 - x - 1, 6.61, None, None, tol, max_iterations, results, ax[0], equations[3], solutions[6])\n",
    "record_results(newton, lambda x: 2 * x ** 3 - 2 * x ** 2 - 2 * x - 1, 6.31, None, None, tol, max_iterations, results, ax[1], equations[4], solutions[9])\n",
    "record_results(newton, lambda x: 7 * x ** 3 - 7 * x ** 2 - 7 * x - 1, 5.69, None, None, tol, max_iterations, results, ax[2], equations[5], solutions[14])\n",
    "# After 14 iterations the rightmost graph gets a overflow error because the method's prediction was a number that is bigger than what is allowed in python.\n",
    "# Therefore we show 14 iterations of the graph to show how the path of the prediction went previous to the overflow error event\n",
    "#plt.show()\n",
    "\n",
    "# Newton's Method Table\n",
    "fig, ax = plt.subplots(dpi=200, figsize = (6,1))\n",
    "fig.patch.set_visible(False)\n",
    "ax.axis('off')\n",
    "ax.axis('tight')\n",
    "df = pd.DataFrame({equations[0] : results[0:5], equations[1] : results[5: 10], equations[2] : results[10 : 15],\n",
    "                   equations[3] : results[15 : 20], equations[4] : results[20:25], equations[5] : results[25:30]})\n",
    "ax.table(cellText=df.values, rowLabels=[\"Outcome\", \"Output\", \"Error\", \"Iterations\", \"Time (seconds)\"], colLabels=df.columns, cellLoc='center', loc='center')\n",
    "fig.tight_layout()\n",
    "plt.show()\n",
    "# The rightmost part of the table has been fixed to 14 iterations bc overflow error - method is too far from convergence to be continued"
   ],
   "metadata": {
    "collapsed": false,
    "pycharm": {
     "name": "#%%\n"
    }
   }
  },
  {
   "cell_type": "code",
   "execution_count": null,
   "outputs": [],
   "source": [
    "# Steffensen's Method\n",
    "def steffensen(f, p0, tolerance, max_iter):\n",
    "    start = time.time()\n",
    "    progress = []\n",
    "    for i in range(1, max_iter):\n",
    "        p1 = p0 + f(p0)\n",
    "        p2 = p1 + f(p1)\n",
    "        p = p0 - ((p1 - p0)*(p1-p0))/(p2 - (2*p1) + p0)\n",
    "        progress.append(p)\n",
    "        if abs(p - p0) < tolerance:\n",
    "            end = time.time()\n",
    "            return \"Success\", p, i, progress, end-start\n",
    "        p0 = p\n",
    "    end = time.time()\n",
    "    return \"Failure\", p, max_iter, progress, end-start\n",
    "\n",
    "# Testing Steffensen's Method With 2nd Degree Polynomials\n",
    "results = []\n",
    "fig, ax = plt.subplots(1, 3, figsize=(15,4))\n",
    "record_results(steffensen, lambda x:x**2-x-1, -5.6, None, None, tol, max_iterations, results, ax[0], equations[0], solutions[0])\n",
    "record_results(steffensen, lambda x:3*x**2-3*x-1, -5.3, None, None, tol, max_iterations, results, ax[1], equations[1], solutions[2])\n",
    "record_results(steffensen, lambda x:8*x**2-8*x-1, -5.11, None, None, tol, max_iterations, results, ax[2], equations[2], solutions[4])\n",
    "plt.show()\n",
    "\n",
    "# Testing Steffensen's Method With 3nd Degree Polynomials\n",
    "fig, ax = plt.subplots(1, 3, figsize=(15,4)) # my screen may be too big\n",
    "record_results(steffensen, lambda x:x**3-x**2-x-1, 6.61, None, None, tol, max_iterations, results, ax[0], equations[3], solutions[6])\n",
    "record_results(steffensen, lambda x:2*x**3-2*x**2-2*x-1, 6.31, None, None, tol, max_iterations, results, ax[1], equations[4], solutions[9])\n",
    "record_results(steffensen, lambda x:7*x**3-7*x**2-7*x-1, 5.69, None, None, tol, max_iterations, results, ax[2], equations[5], solutions[12])\n",
    "plt.show()\n",
    "\n",
    "# Steffensen's Table\n",
    "fig, ax = plt.subplots(dpi=200, figsize = (6,1))\n",
    "fig.patch.set_visible(False)\n",
    "ax.axis('off')\n",
    "ax.axis('tight')\n",
    "df = pd.DataFrame({equations[0] : results[0:5], equations[1] : results[5: 10], equations[2] : results[10 : 15],\n",
    "                   equations[3] : results[15 : 20], equations[4] : results[20:25], equations[5] : results[25:30]})\n",
    "ax.table(cellText=df.values, rowLabels=[\"Outcome\", \"Output\", \"Error\", \"Iterations\", \"Time (seconds)\"], colLabels=df.columns, cellLoc='center', loc='center')\n",
    "fig.tight_layout()\n",
    "plt.show()"
   ],
   "metadata": {
    "collapsed": false,
    "pycharm": {
     "name": "#%%\n"
    }
   }
  },
  {
   "cell_type": "code",
   "execution_count": null,
   "outputs": [],
   "source": [
    "# Bisection Method\n",
    "def bisection(f, p0, p1, tolerance, max_iter):\n",
    "    start = time.time()\n",
    "    progress = []\n",
    "    p = p0\n",
    "    fa = f(p)\n",
    "    for i in range(1, max_iter):\n",
    "        p = p0 + (p1-p0)/2\n",
    "        progress.append(p)\n",
    "        fp = f(p)\n",
    "        if (fp == 0) | ((p1-p0)/2 < tolerance):\n",
    "            end =  time.time()\n",
    "            return \"Success\", p, i, progress, end-start\n",
    "        if fa * fp > 0:\n",
    "            p0 = p\n",
    "            fa = fp\n",
    "        else:\n",
    "            p1 = p\n",
    "    end =  time.time()\n",
    "    return \"Failure\", p, max_iter, progress, end-start\n",
    "\n",
    "# Testing Bisection Method With 2nd Degree Polynomials\n",
    "results = []\n",
    "fig, ax = plt.subplots(1, 3, figsize=(15,4))\n",
    "record_results(bisection, lambda x:x**2-x-1, -5.61, 6.61, None, tol, max_iterations, results, ax[0], equations[0], solutions[0])\n",
    "record_results(bisection, lambda x:3*x**2-3*x-1, -5.26, 6.26, None, tol, max_iterations, results, ax[1], equations[1], solutions[2])\n",
    "record_results(bisection, lambda x:8*x**2-8*x-1, -5.11, 6.11, None, tol, max_iterations, results, ax[2], equations[2], solutions[4])\n",
    "plt.show()\n",
    "\n",
    "# Testing Bisection Method With 3nd Degree Polynomials\n",
    "fig, ax = plt.subplots(1, 3, figsize=(15,4)) # my screen may be too big\n",
    "record_results(bisection, lambda x:x**3-x**2-x-1, -5.61, 6.61, None, tol, max_iterations, results, ax[0], equations[3], solutions[6])\n",
    "record_results(bisection, lambda x:2*x**3-2*x**2-2*x-1, -5.56, 6.31, None, tol, max_iterations, results, ax[1], equations[4], solutions[9])\n",
    "record_results(bisection, lambda x:7*x**3-2*x**7-7*x-1, -5.41, 5.69, None, tol, max_iterations, results, ax[2], equations[5], solutions[13])\n",
    "plt.show()\n",
    "\n",
    "# Bisection Method Table\n",
    "fig, ax = plt.subplots(dpi=200, figsize = (6,1))\n",
    "fig.patch.set_visible(False)\n",
    "ax.axis('off')\n",
    "ax.axis('tight')\n",
    "df = pd.DataFrame({equations[0] : results[0:5], equations[1] : results[5: 10], equations[2] : results[10 : 15],\n",
    "                   equations[3] : results[15 : 20], equations[4] : results[20:25], equations[5] : results[25:30]})\n",
    "ax.table(cellText=df.values, rowLabels=[\"Outcome\", \"Output\", \"Error\", \"Iterations\", \"Time (seconds)\"], colLabels=df.columns, cellLoc='center', loc='center')\n",
    "fig.tight_layout()\n",
    "plt.show()"
   ],
   "metadata": {
    "collapsed": false,
    "pycharm": {
     "name": "#%%\n"
    }
   }
  },
  {
   "cell_type": "code",
   "execution_count": null,
   "outputs": [],
   "source": [
    "# Secant Method\n",
    "def secant(f, p0, p1, tolerance, max_iter):\n",
    "    start = time.time()\n",
    "    progress = []\n",
    "    q0 = f(p0)\n",
    "    q1 = f(p1)\n",
    "    for i in range(2, max_iter):\n",
    "        p = p1 - (q1*(p1-p0))/(q1-q0)\n",
    "        progress.append(p)\n",
    "        if abs(p - p1) < tolerance:\n",
    "            end = time.time()\n",
    "            return \"Success\", p, i, progress, end-start\n",
    "        p0 = p1\n",
    "        q0 = q1\n",
    "        p1 = p\n",
    "        q1 = f(p)\n",
    "    end = time.time()\n",
    "    return \"Failure\", p, max_iter, progress, end-start\n",
    "\n",
    "# Testing Secant Method With 2nd Degree Polynomials\n",
    "results = []\n",
    "fig, ax = plt.subplots(1, 3, figsize=(15,4))\n",
    "record_results(secant, lambda x:x**2-x-1, -5.6, 6.61, None, tol, max_iterations, results, ax[0], equations[0], solutions[0])\n",
    "record_results(secant, lambda x:3*x**2-3*x-1, -5.26, 6.26, None, tol, max_iterations, results, ax[1], equations[1], solutions[1])\n",
    "record_results(secant, lambda x:8*x**2-8*x-1, -5.11, 6.11, None, tol, max_iterations, results, ax[2], equations[2], solutions[2])\n",
    "plt.show()\n",
    "\n",
    "# Testing Secant Method With 3nd Degree Polynomials\n",
    "fig, ax = plt.subplots(1, 3, figsize=(15,4)) # my screen may be too big\n",
    "record_results(secant, lambda x:x**3-x**2-x-1, -5.61, 6.61, None, tol, max_iterations, results, ax[0], equations[3], solutions[6])\n",
    "record_results(secant, lambda x:2*x**3-2*x**2-2*x-1, -5.56, 6.31, None, tol, max_iterations, results, ax[1], equations[4], solutions[9])\n",
    "record_results(secant, lambda x:7*x**3-7*x**2-7*x-1, -5.41, 5.69, None, tol, max_iterations, results, ax[2], equations[5], solutions[12])\n",
    "plt.show()\n",
    "\n",
    "# Secant Method Table\n",
    "fig, ax = plt.subplots(dpi=200, figsize = (6,1))\n",
    "fig.patch.set_visible(False)\n",
    "ax.axis('off')\n",
    "ax.axis('tight')\n",
    "df = pd.DataFrame({equations[0] : results[0:5], equations[1] : results[5: 10], equations[2] : results[10 : 15],\n",
    "                   equations[3] : results[15 : 20], equations[4] : results[20:25], equations[5] : results[25:30]})\n",
    "ax.table(cellText=df.values, rowLabels=[\"Outcome\", \"Output\", \"Error\", \"Iterations\", \"Time (seconds)\"], colLabels=df.columns, cellLoc='center', loc='center')\n",
    "fig.tight_layout()\n",
    "plt.show()"
   ],
   "metadata": {
    "collapsed": false,
    "pycharm": {
     "name": "#%%\n"
    }
   }
  },
  {
   "cell_type": "code",
   "execution_count": null,
   "metadata": {
    "pycharm": {
     "name": "#%%\n"
    }
   },
   "outputs": [],
   "source": [
    "# False Position Method\n",
    "def false_position(f, p0, p1, tolerance, max_iter):\n",
    "    start = time.time()\n",
    "    progress = []\n",
    "    q0 = f(p0)\n",
    "    q1 = f(p1)\n",
    "    for i in range(2, max_iter):\n",
    "        p = p1 - q1*(p1 - p0)/(q1 - q0)\n",
    "        progress.append(p)\n",
    "        if abs(p - p1) < tolerance:\n",
    "            end = time.time()\n",
    "            return \"Success\", p, i, progress, end-start\n",
    "        q = f(p)\n",
    "        if q * q1 < 0:\n",
    "            p0 = p1\n",
    "            q0 = q1\n",
    "        p1 = p\n",
    "        q1 = q\n",
    "    end = time.time()\n",
    "    return \"Failure\", p, i, progress, end-start\n",
    "\n",
    "# Testing False Position With 2nd Degree Polynomials\n",
    "results = []\n",
    "fig, ax = plt.subplots(1, 3, figsize=(15,4))\n",
    "record_results(false_position, lambda x:x**2-x-1, -5.6, 6.61, None, tol, max_iterations, results, ax[0], equations[0], solutions[0])\n",
    "record_results(false_position, lambda x:3*x**2-3*x-1, -5.3, 6.26, None, tol, max_iterations, results, ax[1], equations[1], solutions[2])\n",
    "record_results(false_position, lambda x:8*x**2-8*x-1, -5.11, 6.11, None, tol, max_iterations, results, ax[2], equations[2], solutions[4])\n",
    "plt.show()\n",
    "\n",
    "# Testing False Position With 3nd Degree Polynomials\n",
    "fig, ax = plt.subplots(1, 3, figsize=(15,4)) # my screen may be too big\n",
    "record_results(false_position, lambda x:x**3-x**2-x-1, -5.61, 6.61, None, tol, max_iterations, results, ax[0], equations[3], solutions[6])\n",
    "record_results(false_position, lambda x:2*x**3-2*x**2-2*x-1, -5.56, 6.31, None, tol, max_iterations, results, ax[1], equations[4], solutions[9])\n",
    "record_results(false_position, lambda x:7*x**3-7*x**2-7*x-1, -5.41, 5.69, None, tol, max_iterations, results, ax[2], equations[5], solutions[14])\n",
    "plt.show()\n",
    "\n",
    "# False Position Table\n",
    "fig, ax = plt.subplots(dpi=200, figsize = (6,1))\n",
    "fig.patch.set_visible(False)\n",
    "ax.axis('off')\n",
    "ax.axis('tight')\n",
    "df = pd.DataFrame({equations[0] : results[0:5], equations[1] : results[5: 10], equations[2] : results[10 : 15],\n",
    "                   equations[3] : results[15 : 20], equations[4] : results[20:25], equations[5] : results[25:30]})\n",
    "ax.table(cellText=df.values, rowLabels=[\"Outcome\", \"Output\", \"Error\", \"Iterations\", \"Time (seconds)\"], colLabels=df.columns, cellLoc='center', loc='center')\n",
    "fig.tight_layout()\n",
    "plt.show()"
   ]
  },
  {
   "cell_type": "code",
   "execution_count": null,
   "outputs": [],
   "source": [
    "# Brent's Method - Combines Bisection & Inverse Quadratic\n",
    "def brent(f, p0, p1, tolerance, max_iter):\n",
    "    start = time.time()\n",
    "    progress = []\n",
    "    if abs(f(p0)) < abs(f(p1)):\n",
    "        p0, p1 = p1, p0\n",
    "    p2, fp2 = p0, f(p0)\n",
    "    flag = True\n",
    "    for i in range(max_iter):\n",
    "        progress.append(p1)\n",
    "        if abs(p1-p0) > tolerance:\n",
    "            if (f(p0)) != fp2 and f(p1) != fp2:\n",
    "                l0 = (p0 * f(p1) * fp2) / (((f(p0)) - f(p1)) * ((f(p0)) - fp2))\n",
    "                l1 = (p1 * (f(p0)) * fp2) / ((f(p1) - (f(p0))) * (f(p1) - fp2))\n",
    "                l2 = (p2 * f(p1) * (f(p0))) / ((fp2 - (f(p0))) * (fp2 - f(p1)))\n",
    "                new = l0 + l1 + l2\n",
    "            else:\n",
    "                new = p1 - ( (f(p1) * (p1 - p0)) / (f(p1) - (f(p0))) )\n",
    "            if ((new < ((3 * p0 + p1) / 4) or new > p1) or\n",
    "                    (flag == True and (abs(new - p1)) >= (abs(p1 - p2) / 2)) or\n",
    "                    (flag == False and (abs(new - p1)) >= (abs(p2 - d) / 2)) or\n",
    "                    (flag == True and (abs(p1 - p2)) < tolerance) or\n",
    "                    (flag == False and (abs(p2 - d)) < tolerance)):\n",
    "                new = (p0 + p1) / 2\n",
    "                flag = True\n",
    "            else:\n",
    "                flag = False\n",
    "            d, p2 = p2, p1\n",
    "            if ((f(p0)) * f(new)) < 0:\n",
    "                p1 = new\n",
    "            else:\n",
    "                p0 = new\n",
    "            if abs((f(p0))) < abs(f(p1)):\n",
    "                p0, p1 = p1, p0\n",
    "        else:\n",
    "            end = time.time()\n",
    "            return \"Success\", p1, i, progress, end-start\n",
    "    end = time.time()\n",
    "    return \"Failure\", p1, max_iter, progress, end-start\n",
    "\n",
    "# Testing Brent's Method With 2nd Degree Polynomials\n",
    "results = []\n",
    "fig, ax = plt.subplots(1, 3, figsize=(15,4))\n",
    "record_results(brent, lambda x:x**2-x-1, -5.6, 6.61, None, tol, max_iterations, results, ax[0], equations[0], solutions[1])\n",
    "record_results(brent, lambda x:3*x**2-3*x-1, -5.3, 6.26, None, tol, max_iterations, results, ax[1], equations[1], solutions[2])\n",
    "record_results(brent, lambda x:8*x**2-8*x-1, -5.11, 6.11, None, tol, max_iterations, results, ax[2], equations[2], solutions[5])\n",
    "plt.show()\n",
    "\n",
    "# Testing Brent's Method With 3nd Degree Polynomials\n",
    "fig, ax = plt.subplots(1, 3, figsize=(15,4)) # my screen may be too big\n",
    "record_results(brent, lambda x:x**3-x**2-x-1, -5.61, 6.61, None, tol, max_iterations, results, ax[0], equations[3], solutions[6])\n",
    "record_results(brent, lambda x:2*x**3-2*x**2-2*x-1, -5.56, 6.31, None, tol, max_iterations, results, ax[1], equations[4], solutions[9])\n",
    "record_results(brent, lambda x:7*x**3-7*x**2-7*x-1, -5.41, 5.69, None, tol, max_iterations, results, ax[2], equations[5], solutions[14])\n",
    "plt.show()\n",
    "\n",
    "# Brent's Method Table\n",
    "fig, ax = plt.subplots(dpi=200, figsize = (6,1))\n",
    "fig.patch.set_visible(False)\n",
    "ax.axis('off')\n",
    "ax.axis('tight')\n",
    "df = pd.DataFrame({equations[0] : results[0:5], equations[1] : results[5: 10], equations[2] : results[10 : 15],\n",
    "                   equations[3] : results[15 : 20], equations[4] : results[20:25], equations[5] : results[25:30]})\n",
    "ax.table(cellText=df.values, rowLabels=[\"Outcome\", \"Output\", \"Error\", \"Iterations\", \"Time (seconds)\"], colLabels=df.columns, cellLoc='center', loc='center')\n",
    "fig.tight_layout()\n",
    "plt.show()"
   ],
   "metadata": {
    "collapsed": false,
    "pycharm": {
     "name": "#%%\n"
    }
   }
  },
  {
   "cell_type": "code",
   "execution_count": null,
   "outputs": [],
   "source": [
    "# Inverse Quadratic - Similar to the Secant Method / A derivation from the Secant Method\n",
    "def inverse_quadratic(f, x0, x1, x2, tolerance, max_iter):\n",
    "    start = time.time()\n",
    "    progress = []\n",
    "    for i in range(max_iter):\n",
    "        if abs(x1-x0) > tolerance: # last guess and new guess are v close\n",
    "            l0 = (x0 * f(x1) * f(x2)) / ((f(x0) - f(x1)) * (f(x0) - f(x2)))\n",
    "            l1 = (x1 * f(x0) * f(x2)) / ((f(x1) - f(x0)) * (f(x1) - f(x2)))\n",
    "            l2 = (x2 * f(x1) * f(x0)) / ((f(x2) - f(x0)) * (f(x2) - f(x1)))\n",
    "            new = l0 + l1 + l2\n",
    "            x0, x1, x2 = new, x0, x1\n",
    "            progress.append(x0)\n",
    "        else:\n",
    "            end = time.time()\n",
    "            return \"Success\", x0, i, progress, end-start\n",
    "    end = time.time()\n",
    "    return \"Failure\", x0, max_iter, progress, end-start\n",
    "\n",
    "# Testing Inverse Quadratics Method With 2nd Degree Polynomials\n",
    "results = []\n",
    "fig, ax = plt.subplots(1, 3, figsize=(15,4))\n",
    "record_results(inverse_quadratic, lambda x:x**2-x-1, -5.6, .6, 6.61, tol, max_iterations, results, ax[0], equations[0], solutions[0])\n",
    "record_results(inverse_quadratic, lambda x:3*x**2-3*x-1, -5.3, .26, 6.26, tol, max_iterations, results, ax[1], equations[2], solutions[2])\n",
    "record_results(inverse_quadratic, lambda x:8*x**2-8*x-1, -5.11, .11, 6.11, tol, max_iterations, results, ax[2], equations[3], solutions[3])\n",
    "plt.show()\n",
    "\n",
    "# Testing Inverse Quadratic Method With 3nd Degree Polynomials\n",
    "fig, ax = plt.subplots(1, 3, figsize=(15,4)) # my screen may be too big\n",
    "record_results(inverse_quadratic, lambda x:x**3-x**2-x-1, -5.61, .61, 6.61, tol, max_iterations, results, ax[0], equations[3], solutions[6])\n",
    "record_results(inverse_quadratic, lambda x:2*x**3-2*x**2-2*x-1, -5.56, .43, 6.31, tol, max_iterations, results, ax[1], equations[4], solutions[9])\n",
    "record_results(inverse_quadratic, lambda x:7*x**3-7*x**2-7*x-1, -5.41, .54, 5.69, tol, max_iterations, results, ax[2], equations[5], solutions[13])\n",
    "plt.show()\n",
    "\n",
    "# Inverse Quadratic Method Table\n",
    "fig, ax = plt.subplots(dpi=200, figsize = (6,1))\n",
    "fig.patch.set_visible(False)\n",
    "ax.axis('off')\n",
    "ax.axis('tight')\n",
    "df = pd.DataFrame({equations[0] : results[0:5], equations[1] : results[5: 10], equations[2] : results[10 : 15],\n",
    "                   equations[3] : results[15 : 20], equations[4] : results[20:25], equations[5] : results[25:30]})\n",
    "ax.table(cellText=df.values, rowLabels=[\"Outcome\", \"Output\", \"Error\", \"Iterations\", \"Time (seconds)\"], colLabels=df.columns, cellLoc='center', loc='center')\n",
    "fig.tight_layout()\n",
    "plt.show()"
   ],
   "metadata": {
    "collapsed": false,
    "pycharm": {
     "name": "#%%\n"
    }
   }
  },
  {
   "cell_type": "code",
   "execution_count": null,
   "outputs": [],
   "source": [
    "# Muller's Method\n",
    "def muller(f, p0, p1, p2, tolerance, max_iter):\n",
    "    start = time.time()\n",
    "    progress = []\n",
    "    h1 = p1 - p0\n",
    "    h2 = p2-p1\n",
    "    g1 = (f(p1) - f(p0))/h1\n",
    "    g2 = (f(p2) - f(p1))/h2\n",
    "    d = (g1 - g2)/(h2+h1)\n",
    "    for i in range(3, max_iter):\n",
    "        b = g2 + h2*d\n",
    "        d2 = (b**2 - 4*f(p2)*d)**1/2\n",
    "        if abs(b-d2) < abs(b+d2):\n",
    "            e2 = b + d2\n",
    "        else:\n",
    "            e2 = b - d2\n",
    "        h = -2*f(p2)/e2\n",
    "        p = p2+h\n",
    "        progress.append(p)\n",
    "        if abs(h) < tolerance:\n",
    "            end = time.time()\n",
    "            return \"Success\", p, i, progress, end-start\n",
    "        p0 = p1\n",
    "        p1 = p2\n",
    "        p2 = p\n",
    "        h1 = p1 - p0\n",
    "        h2 = p2 - p1\n",
    "        g1 = (f(p1)-f(p0))/h1\n",
    "        g2 = (f(p2)-f(p1))/h2\n",
    "        d = (g2 - g1)/(h2+h1)\n",
    "    end = time.time()\n",
    "    return \"Failure\", p, max_iter, progress, end-start\n",
    "\n",
    "# Testing Muller's Method With 2nd Degree Polynomials\n",
    "results = []\n",
    "fig, ax = plt.subplots(1, 3, figsize=(15,4))\n",
    "record_results(muller, lambda x:x**2-x-1, -5.6, .6, 6.61, tol, max_iterations, results, ax[0], equations[0], 1.618033988749894)\n",
    "record_results(muller, lambda x:3*x**2-3*x-1, -5.3, .26, 6.26, tol, max_iterations, results, ax[1], equations[2], 1.263762615825973)\n",
    "record_results(muller, lambda x:8*x**2-8*x-1, -5.11, .11, 6.11, tol, max_iterations, results, ax[2], equations[4], 1.112372435695794)\n",
    "plt.show()\n",
    "\n",
    "# Testing Inverse Quadratic Method With 3nd Degree Polynomials\n",
    "fig, ax = plt.subplots(1, 3, figsize=(15,4)) # my screen may be too big\n",
    "record_results(muller, lambda x:x**3-x**2-x-1, -5.61, .61, 6.61, tol, max_iterations, results, ax[0], equations[3], solutions[6])\n",
    "record_results(muller, lambda x:2*x**3-2*x**2-2*x-1, -5.56, .43, 6.31, tol, max_iterations, results, ax[1], equations[4], solutions[9])\n",
    "record_results(muller, lambda x:7*x**3-7*x**2-7*x-1, -5.41, .54, 5.69, tol, max_iterations, results, ax[2], equations[5], solutions[14])\n",
    "plt.show()\n",
    "\n",
    "# Muller's Table\n",
    "fig, ax = plt.subplots(dpi=200, figsize = (6,1))\n",
    "fig.patch.set_visible(False)\n",
    "ax.axis('off')\n",
    "ax.axis('tight')\n",
    "df = pd.DataFrame({equations[0] : results[0:5], equations[1] : results[5: 10], equations[2] : results[10 : 15],\n",
    "                   equations[3] : results[15 : 20], equations[4] : results[20:25], equations[5] : results[25:30]})\n",
    "ax.table(cellText=df.values, rowLabels=[\"Outcome\", \"Output\", \"Error\", \"Iterations\", \"Time (seconds)\"], colLabels=df.columns, cellLoc='center', loc='center')\n",
    "fig.tight_layout()\n",
    "plt.show()"
   ],
   "metadata": {
    "collapsed": false,
    "pycharm": {
     "name": "#%%\n"
    }
   }
  },
  {
   "cell_type": "code",
   "execution_count": null,
   "metadata": {
    "pycharm": {
     "name": "#%%\n"
    }
   },
   "outputs": [],
   "source": [
    "# https://mpmath.org/doc/current/calculus/optimization.html <--- MUST CHECK has many equation\n",
    "# Halley\n",
    "# Illinois\n",
    "# Pegasus\n",
    "# Anderson\n",
    "# Ridder"
   ]
  },
  {
   "cell_type": "code",
   "execution_count": null,
   "metadata": {
    "pycharm": {
     "name": "#%%\n"
    }
   },
   "outputs": [],
   "source": [
    "# https://github.com/fredrik-johansson/mpmath/blob/c11db84b3237bd8fc6721f5a0c5d7c0c98a24dc1/mpmath/calculus/optimization.py#L341\n",
    "def test(f, df, d2f, x):\n",
    "    for i in range(max_iterations):\n",
    "        prev = x\n",
    "        fx = f(x)\n",
    "        dfx = df(x)\n",
    "        d2fx = d2f(x)\n",
    "        x -=  2*fx*dfx / (2*dfx**2 - fx*d2fx)\n",
    "        error = abs(x - prev)\n",
    "        if f(x) < tol:\n",
    "            return x, error\n",
    "    return x, error\n",
    "\n",
    "print(test(lambda x:x**2-x-1, lambda x:2*x-1, lambda x:2, 2.61))"
   ]
  },
  {
   "cell_type": "code",
   "execution_count": null,
   "metadata": {
    "pycharm": {
     "name": "#%%\n"
    }
   },
   "outputs": [],
   "source": [
    "# https://github.com/fredrik-johansson/mpmath/blob/c11db84b3237bd8fc6721f5a0c5d7c0c98a24dc1/mpmath/calculus/optimization.py#L694"
   ]
  }
 ],
 "metadata": {
  "kernelspec": {
   "display_name": "Python 3 (ipykernel)",
   "language": "python",
   "name": "python3"
  },
  "language_info": {
   "codemirror_mode": {
    "name": "ipython",
    "version": 3
   },
   "file_extension": ".py",
   "mimetype": "text/x-python",
   "name": "python",
   "nbconvert_exporter": "python",
   "pygments_lexer": "ipython3",
   "version": "3.9.7"
  }
 },
 "nbformat": 4,
 "nbformat_minor": 1
}